{
  "nbformat": 4,
  "nbformat_minor": 0,
  "metadata": {
    "colab": {
      "name": "20220425.ipynb",
      "provenance": [],
      "authorship_tag": "ABX9TyMfOKpr9+haZ8FsPGGfEZV3",
      "include_colab_link": true
    },
    "kernelspec": {
      "name": "python3",
      "display_name": "Python 3"
    },
    "language_info": {
      "name": "python"
    }
  },
  "cells": [
    {
      "cell_type": "markdown",
      "metadata": {
        "id": "view-in-github",
        "colab_type": "text"
      },
      "source": [
        "<a href=\"https://colab.research.google.com/github/Kim-Jiseong/class2022spring/blob/master/20220425.ipynb\" target=\"_parent\"><img src=\"https://colab.research.google.com/assets/colab-badge.svg\" alt=\"Open In Colab\"/></a>"
      ]
    },
    {
      "cell_type": "code",
      "execution_count": null,
      "metadata": {
        "id": "UxcFKl9h8xgm"
      },
      "outputs": [],
      "source": [
        "Auto correlation (자기상관)\n",
        "1. 시간 또는 공간적으로 연속된 일련의 관측치들간에 존재하는 상관관계\n",
        "2. 어떤 특정 시점에서 해당 시점의 오차항은 해당 시점의 충격 뿐 아니라 과거로부터의 충격으로부터 이전된 영향들도 포함함\n",
        "3. 이러한  영향으로 인해 해당 시점의 충격은 과거의 충격들과 상관될 것이며, 이러한상황은 오차항들이 상관을 낳게되기에 자기상관이 존재한다고 함\n",
        "\n",
        "RMS(root mean square)\n",
        "1. 제곱 평균 제곱근. 일련의 값들(혹은 연속시간 파형)에 대한 제곱평균제곱근은 원래의 값(혹은 연속시간 파형을 정의하는 함수의 제곱)의 제곱들에 대한 산술평균(평균)의 제곱근이다.\n",
        "2. 음향에서는 평균 음량 값\n",
        "3. RMS가 크면 전체적인 소리의 레벨이 크다는 뜻\n"
      ]
    }
  ]
}